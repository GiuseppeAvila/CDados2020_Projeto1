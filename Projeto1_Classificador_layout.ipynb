{
 "cells": [
  {
   "cell_type": "markdown",
   "metadata": {},
   "source": [
    "# Projeto 1 - Ciência dos Dados"
   ]
  },
  {
   "cell_type": "markdown",
   "metadata": {},
   "source": [
    "Nome: Gabriela Mitu\n",
    "\n",
    "Nome: Fernando Avila"
   ]
  },
  {
   "cell_type": "markdown",
   "metadata": {},
   "source": [
    "___\n",
    "## Classificador automático de sentimento\n"
   ]
  },
  {
   "cell_type": "markdown",
   "metadata": {},
   "source": [
    "## Introdução"
   ]
  },
  {
   "cell_type": "markdown",
   "metadata": {},
   "source": [
    "A temática que será abordada na pesquisa é referente ao personagem Sonic, dado que o assunto está em alta em razão do recente lançamento do filme relacionado a ele.\n",
    "\n",
    "Para adqurir informações interessantes para as empresas envolvidas tanto com o filme como com o jogo que deu origem ao personagem, será utilizada a rede social Twitter. Entretanto, em meio a todo o conteúdo que será adquirido nela, há uma grande quantidade de dados irrelevantes e que devem ser filtrados.\n",
    "\n",
    "Desta forma, será construído um classificador Naive-Bayes capaz de fazer esse trabalho de filtragem."
   ]
  },
  {
   "cell_type": "markdown",
   "metadata": {},
   "source": [
    "\n",
    "## Preparando o ambiente no jupyter:"
   ]
  },
  {
   "cell_type": "code",
   "execution_count": 1,
   "metadata": {},
   "outputs": [],
   "source": [
    "%matplotlib inline\n",
    "import pandas as pd\n",
    "import matplotlib.pyplot as plt\n",
    "import numpy as np\n",
    "import os\n",
    "import tweepy\n",
    "import math\n",
    "import os.path\n",
    "import json\n",
    "from random import shuffle\n",
    "import nltk\n",
    "from nltk.corpus import stopwords"
   ]
  },
  {
   "cell_type": "code",
   "execution_count": 2,
   "metadata": {
    "scrolled": false
   },
   "outputs": [
    {
     "name": "stdout",
     "output_type": "stream",
     "text": [
      "Esperamos trabalhar no diretório\n",
      "/home/borg/Documents/Insper/Terceiro_Semestre/Ciencia_dos_Dados/Github/CDados2020_Projeto1\n"
     ]
    }
   ],
   "source": [
    "print('Esperamos trabalhar no diretório')\n",
    "print(os.getcwd())"
   ]
  },
  {
   "cell_type": "markdown",
   "metadata": {},
   "source": [
    "### Planilha de dados"
   ]
  },
  {
   "cell_type": "markdown",
   "metadata": {},
   "source": [
    "Para criar o classificador Naive Bayes, os seguintes passos foram seguidos:\n",
    "- Elaboração deplanilhas do excel de treinamento e teste com dados do Twitter sobre o produto \"Android\"\n",
    "- Classificação manual dos dados da planilha (ver: Projeto2-excel.ipynb).\n",
    "Na coluna de Categoria, foram separados 4 tipos de classificação: Irrelevante, Pouco relevante, Relevante e Muito Relevante. Como critério para identificar cada tipo foi utilizada a definição a seguir:\n",
    "\n",
    "\n",
    "**Relevante**:\n",
    "- Críticas (construtivas ou mesmo pequenos feedbacks) sobre tanto o filme como os jogos relacionados ao personagem, pois o lançamento do filme pode ter acarretado no retorno da popularidade de alguns dos jogos da franquia.\n",
    "- Sugestões/novas ideias (filme/jogo)\n",
    "\n",
    "\n",
    "**Muito Irrelevante**:\n",
    "- Situações pessoais\n",
    "- Comentários aleatórios não referenciais ao personagem (filme/jogo) ou que não sustentam nenhuma relevância.\n",
    "\n",
    "\n",
    "**Irrelevante**:\n",
    "- Propagandas\n",
    "- Anunciar a exibição em algum site\n",
    "- Links relacionados ao tema.\n",
    "\n",
    "**Relevante_filme**\n",
    "- Subcategoria de \"Relevante\" para a melhoria do classificador sobre o filme\n",
    "- Críticas (construtivas ou mesmo pequenos feedbacks) sobre apenas o filme\n",
    "- Sugestões/novas ideias para o filme\n",
    "\n",
    "**Relevante_jogo**\n",
    "- Subcategoria de \"Relevante\" para a melhoria do classificador sobre jogos da franquia Sonic\n",
    "- Críticas (construtivas ou mesmo pequenos feedbacks) sobre apenas a franquia do jogo\n",
    "- Sugestões/novas ideias para a franquia de jogos"
   ]
  },
  {
   "cell_type": "markdown",
   "metadata": {},
   "source": [
    "___\n",
    "### Montando um Classificador Naive-Bayes\n",
    "\n",
    "Considerando apenas as mensagens da planilha Treinamento, ensine  seu classificador."
   ]
  },
  {
   "cell_type": "code",
   "execution_count": 3,
   "metadata": {},
   "outputs": [
    {
     "data": {
      "text/html": [
       "<div>\n",
       "<style scoped>\n",
       "    .dataframe tbody tr th:only-of-type {\n",
       "        vertical-align: middle;\n",
       "    }\n",
       "\n",
       "    .dataframe tbody tr th {\n",
       "        vertical-align: top;\n",
       "    }\n",
       "\n",
       "    .dataframe thead th {\n",
       "        text-align: right;\n",
       "    }\n",
       "</style>\n",
       "<table border=\"1\" class=\"dataframe\">\n",
       "  <thead>\n",
       "    <tr style=\"text-align: right;\">\n",
       "      <th></th>\n",
       "      <th>Treinamento</th>\n",
       "      <th>Relevancia</th>\n",
       "      <th>Relevancia_2</th>\n",
       "    </tr>\n",
       "  </thead>\n",
       "  <tbody>\n",
       "    <tr>\n",
       "      <th>0</th>\n",
       "      <td>rt @oldvx: opa opa opa ta tirando a roupinha p...</td>\n",
       "      <td>Irrelevante</td>\n",
       "      <td>Muito Irrelevante</td>\n",
       "    </tr>\n",
       "    <tr>\n",
       "      <th>1</th>\n",
       "      <td>sonic é o filme mais fofo de 2020</td>\n",
       "      <td>Relevante</td>\n",
       "      <td>Relevante_filme</td>\n",
       "    </tr>\n",
       "    <tr>\n",
       "      <th>2</th>\n",
       "      <td>opinião impopular: mario é melhor que sonic</td>\n",
       "      <td>Relevante</td>\n",
       "      <td>Relevante_jogo</td>\n",
       "    </tr>\n",
       "    <tr>\n",
       "      <th>3</th>\n",
       "      <td>@amacalister2 cabe a mim aceitar que eu sou bu...</td>\n",
       "      <td>Irrelevante</td>\n",
       "      <td>Muito Irrelevante</td>\n",
       "    </tr>\n",
       "    <tr>\n",
       "      <th>4</th>\n",
       "      <td>o novo filme do sonic é do caralhooo, recomendo!!</td>\n",
       "      <td>Relevante</td>\n",
       "      <td>Relevante_filme</td>\n",
       "    </tr>\n",
       "  </tbody>\n",
       "</table>\n",
       "</div>"
      ],
      "text/plain": [
       "                                         Treinamento   Relevancia  \\\n",
       "0  rt @oldvx: opa opa opa ta tirando a roupinha p...  Irrelevante   \n",
       "1                  sonic é o filme mais fofo de 2020    Relevante   \n",
       "2        opinião impopular: mario é melhor que sonic    Relevante   \n",
       "3  @amacalister2 cabe a mim aceitar que eu sou bu...  Irrelevante   \n",
       "4  o novo filme do sonic é do caralhooo, recomendo!!    Relevante   \n",
       "\n",
       "        Relevancia_2  \n",
       "0  Muito Irrelevante  \n",
       "1    Relevante_filme  \n",
       "2     Relevante_jogo  \n",
       "3  Muito Irrelevante  \n",
       "4    Relevante_filme  "
      ]
     },
     "execution_count": 3,
     "metadata": {},
     "output_type": "execute_result"
    }
   ],
   "source": [
    "tweets_treinamento = pd.read_excel('Sonic.xlsx',sheet_name=0)\n",
    "tweets_treinamento[\"Relevancia\"] = tweets_treinamento[\"Relevancia\"].replace(0,\"Irrelevante\")\n",
    "tweets_treinamento[\"Relevancia\"] = tweets_treinamento[\"Relevancia\"].replace(1,\"Relevante\")\n",
    "tweets_treinamento[\"Relevancia\"] = tweets_treinamento[\"Relevancia\"].replace(2,\"Propaganda\")\n",
    "\n",
    "tweets_treinamento[\"Relevancia_2\"] = tweets_treinamento[\"Relevancia_2\"].replace(0,\"Muito Irrelevante\")\n",
    "tweets_treinamento[\"Relevancia_2\"] = tweets_treinamento[\"Relevancia_2\"].replace(1,\"Relevante_filme\")\n",
    "tweets_treinamento[\"Relevancia_2\"] = tweets_treinamento[\"Relevancia_2\"].replace(2,\"Irrelevante\")\n",
    "tweets_treinamento[\"Relevancia_2\"] = tweets_treinamento[\"Relevancia_2\"].replace(3,\"Relevante_jogo\")\n",
    "\n",
    "tweets_treinamento.head()"
   ]
  },
  {
   "cell_type": "code",
   "execution_count": 4,
   "metadata": {},
   "outputs": [
    {
     "data": {
      "text/html": [
       "<div>\n",
       "<style scoped>\n",
       "    .dataframe tbody tr th:only-of-type {\n",
       "        vertical-align: middle;\n",
       "    }\n",
       "\n",
       "    .dataframe tbody tr th {\n",
       "        vertical-align: top;\n",
       "    }\n",
       "\n",
       "    .dataframe thead th {\n",
       "        text-align: right;\n",
       "    }\n",
       "</style>\n",
       "<table border=\"1\" class=\"dataframe\">\n",
       "  <thead>\n",
       "    <tr style=\"text-align: right;\">\n",
       "      <th></th>\n",
       "      <th>Teste</th>\n",
       "      <th>Relevancia</th>\n",
       "      <th>Relevancia_2</th>\n",
       "    </tr>\n",
       "  </thead>\n",
       "  <tbody>\n",
       "    <tr>\n",
       "      <th>0</th>\n",
       "      <td>@kaosnxi @sonic_incel @rolandinho frango se co...</td>\n",
       "      <td>Irrelevante</td>\n",
       "      <td>Muito Irrelevante</td>\n",
       "    </tr>\n",
       "    <tr>\n",
       "      <th>1</th>\n",
       "      <td>https://t.co/87srl06nwo\\n\\nhttps://t.co/glb5nt...</td>\n",
       "      <td>Irrelevante</td>\n",
       "      <td>Muito Irrelevante</td>\n",
       "    </tr>\n",
       "    <tr>\n",
       "      <th>2</th>\n",
       "      <td>achei o filme do sonic tão fofo 🥰</td>\n",
       "      <td>Relevante</td>\n",
       "      <td>Relevante_filme</td>\n",
       "    </tr>\n",
       "    <tr>\n",
       "      <th>3</th>\n",
       "      <td>@khoroshw e vamos de sonic como melhor filme</td>\n",
       "      <td>Relevante</td>\n",
       "      <td>Relevante_filme</td>\n",
       "    </tr>\n",
       "    <tr>\n",
       "      <th>4</th>\n",
       "      <td>eles vão fechar até os cinemas da minha cidade...</td>\n",
       "      <td>Irrelevante</td>\n",
       "      <td>Muito Irrelevante</td>\n",
       "    </tr>\n",
       "  </tbody>\n",
       "</table>\n",
       "</div>"
      ],
      "text/plain": [
       "                                               Teste   Relevancia  \\\n",
       "0  @kaosnxi @sonic_incel @rolandinho frango se co...  Irrelevante   \n",
       "1  https://t.co/87srl06nwo\\n\\nhttps://t.co/glb5nt...  Irrelevante   \n",
       "2                  achei o filme do sonic tão fofo 🥰    Relevante   \n",
       "3       @khoroshw e vamos de sonic como melhor filme    Relevante   \n",
       "4  eles vão fechar até os cinemas da minha cidade...  Irrelevante   \n",
       "\n",
       "        Relevancia_2  \n",
       "0  Muito Irrelevante  \n",
       "1  Muito Irrelevante  \n",
       "2    Relevante_filme  \n",
       "3    Relevante_filme  \n",
       "4  Muito Irrelevante  "
      ]
     },
     "execution_count": 4,
     "metadata": {},
     "output_type": "execute_result"
    }
   ],
   "source": [
    "tweets_teste= pd.read_excel(\"Sonic.xlsx\",sheet_name=1) \n",
    "\n",
    "tweets_teste[\"Relevancia\"] = tweets_teste[\"Relevancia\"].replace(0,\"Irrelevante\")\n",
    "tweets_teste[\"Relevancia\"] = tweets_teste[\"Relevancia\"].replace(1,\"Relevante\")\n",
    "tweets_teste[\"Relevancia\"] = tweets_teste[\"Relevancia\"].replace(2,\"Propaganda\")\n",
    "\n",
    "tweets_teste[\"Relevancia_2\"] = tweets_teste[\"Relevancia_2\"].replace(0,\"Muito Irrelevante\")\n",
    "tweets_teste[\"Relevancia_2\"] = tweets_teste[\"Relevancia_2\"].replace(1,\"Relevante_filme\")\n",
    "tweets_teste[\"Relevancia_2\"] = tweets_teste[\"Relevancia_2\"].replace(2,\"Irrelevante\")\n",
    "tweets_teste[\"Relevancia_2\"] = tweets_teste[\"Relevancia_2\"].replace(3,\"Relevante_jogo\")\n",
    "\n",
    "\n",
    "tweets_teste.head()"
   ]
  },
  {
   "cell_type": "markdown",
   "metadata": {},
   "source": [
    "## Limpeza das bases"
   ]
  },
  {
   "cell_type": "markdown",
   "metadata": {},
   "source": [
    "Para a obtenção de melhores resultados, uma limpeza de bases foi feita. Esta consistia na remoção de caracteres que não interferiam no significado dos comentários, mas poderiam dificultar a classificação. Sem a limpeza, o classificador poderia carecterizar dados semelhantes como distintos."
   ]
  },
  {
   "cell_type": "code",
   "execution_count": 5,
   "metadata": {},
   "outputs": [],
   "source": [
    "def limpeza(tweets, coluna):\n",
    "    tweets[coluna] = tweets[coluna].apply(lambda x: x.lower())\n",
    "\n",
    "    for frase in tweets[coluna]:\n",
    "        frase_split = frase.split(\" \")\n",
    "        for palavra in frase_split:\n",
    "            if len(palavra) == 1:\n",
    "                frase_split.remove(palavra)\n",
    "\n",
    "\n",
    "\n",
    "    nltk.download('stopwords')\n",
    "    stop = stopwords.words('portuguese')\n",
    "    stop_list = [\"?\", \"de\", \"é\", \"á\", \"à\", \"ao\", \"a\", \"o\", \"é\", \"rt\", '\"', \"“\", \"'\", \",\", \":\", \".\", \"(\", \")\", \"!\", \"$\", \"%\", \"*\", \"&\", \"-\", \"+\", \"=\", \"/\"]\n",
    "    stop.extend(stop_list)\n",
    "    tweets[coluna] = [' '.join([w for w in x.lower().split() if w not in stop]) \n",
    "        for x in tweets[coluna].tolist()]\n",
    "    \n",
    "    \n",
    "        \n",
    "\n",
    "    tweets[coluna] = tweets[coluna].str.replace(\"  \",\" \")\n",
    "    tweets[coluna] = tweets[coluna].str.replace(\"http(|s):\\/\\/[^ \\n]*\", \"http\") # indica que é um link \n",
    "    tweets[coluna] = tweets[coluna].str.replace(\",\",\" \")\n",
    "    tweets[coluna] = tweets[coluna].str.replace(\"?\",\" \")\n",
    "    tweets[coluna] = tweets[coluna].str.replace(\"'\",\" \")\n",
    "    tweets[coluna] = tweets[coluna].str.replace('\"',\" \")\n",
    "    tweets[coluna] = tweets[coluna].str.replace(\"“\",\" \")\n",
    "    tweets[coluna] = tweets[coluna].str.replace(\":\",\" \")\n",
    "    tweets[coluna] = tweets[coluna].str.replace(\".\",\" \")\n",
    "    tweets[coluna] = tweets[coluna].str.replace(\")\",\" \")\n",
    "    tweets[coluna] = tweets[coluna].str.replace(\"(\",\" \")\n",
    "    tweets[coluna] = tweets[coluna].str.replace(\"!\",\" \")\n",
    "    tweets[coluna] = tweets[coluna].str.replace(\"$\",\" \")\n",
    "    tweets[coluna] = tweets[coluna].str.replace(\"%\",\" \")\n",
    "    tweets[coluna] = tweets[coluna].str.replace(\"*\",\" \")\n",
    "    tweets[coluna] = tweets[coluna].str.replace(\"&\",\" \")\n",
    "    tweets[coluna] = tweets[coluna].str.replace(\"-\",\" \")\n",
    "    tweets[coluna] = tweets[coluna].str.replace(\"+\",\" \")\n",
    "    tweets[coluna] = tweets[coluna].str.replace(\"=\",\" \")\n",
    "    tweets[coluna] = tweets[coluna].str.replace(\"/\",\" \")\n",
    "    tweets[coluna] = tweets[coluna].str.replace(\"@[^ ]*\", \"\") # remove nome de usuários\n",
    "    tweets[coluna] = tweets[coluna].str.replace(\"|\",\"\")\n",
    "    tweets[coluna] = tweets[coluna].str.replace(\"sonic\",\" \")\n",
    "    tweets[coluna] = tweets[coluna].str.replace(\"  \",\" \")\n",
    "\n",
    "    return pd.DataFrame(tweets)"
   ]
  },
  {
   "cell_type": "markdown",
   "metadata": {},
   "source": [
    "## Implementação do classificador"
   ]
  },
  {
   "cell_type": "markdown",
   "metadata": {},
   "source": [
    "### Classificador Naive Bayes"
   ]
  },
  {
   "cell_type": "markdown",
   "metadata": {},
   "source": [
    "O algoritmo “Naive Bayes” é um classificador probabilístico criado com base no “Teorema de Bayes”. A denominação \"naive\"  se baseia no fato de que o classificador considera as variáveis estudadas como independentes. O algoritmo consegue encontrar uma probabilidade a posteriori a partir da probabilidade a priori a partir da seguinte relação:"
   ]
  },
  {
   "attachments": {
    "image.png": {
     "image/png": "[encoded data removed]"
    }
   },
   "cell_type": "markdown",
   "metadata": {},
   "source": [
    "![image.png](attachment:image.png)"
   ]
  },
  {
   "cell_type": "markdown",
   "metadata": {},
   "source": [
    "- P(B|A): probabilidade de B acontecer dado que A ocorreu \n",
    "- P(A): probabilidade de A ocorrer \n",
    "- P(B): probabilidade de B ocorrer"
   ]
  },
  {
   "cell_type": "markdown",
   "metadata": {},
   "source": [
    "### Suavização de Laplace"
   ]
  },
  {
   "cell_type": "markdown",
   "metadata": {},
   "source": [
    "Como algumas palavras não existem nos tweets irrelevantes, se o Teorema de Bayes fosse seguido normalmente, haveria uma multiplicação de probabilidades por zero. Para evitar tal problema, foi utilizada a técnica de suavização de Laplace. Ela consiste no seguinte procedimento:\n"
   ]
  },
  {
   "attachments": {
    "image.png": {
     "image/png": "[encoded data removed]"
    }
   },
   "cell_type": "markdown",
   "metadata": {},
   "source": [
    "![image.png](attachment:image.png)"
   ]
  },
  {
   "cell_type": "markdown",
   "metadata": {},
   "source": [
    "Na imagem, m é a frequência absoluta (no caso da palavra), n é o numero de termos no documento (quantidade de palavras e k é o número de termos da categoria a ser estudada.\n"
   ]
  },
  {
   "cell_type": "markdown",
   "metadata": {},
   "source": [
    "Para realizar a suavização, foi criado um dicionário para cada categoria. Todas as palavras do conjunto foram adicionadas nesses dicionários, com valor inicial igual a um. Depois, o número de vezes que uma palavra aparece foi acrescentado ao valor da palavra correspondente"
   ]
  },
  {
   "cell_type": "code",
   "execution_count": 6,
   "metadata": {},
   "outputs": [
    {
     "name": "stderr",
     "output_type": "stream",
     "text": [
      "[nltk_data] Downloading package stopwords to /home/borg/nltk_data...\n",
      "[nltk_data]   Package stopwords is already up-to-date!\n"
     ]
    }
   ],
   "source": [
    "tweets = limpeza(tweets_treinamento, \"Treinamento\")\n",
    "\n",
    "irrel = tweets['Treinamento'][tweets['Relevancia'] == \"Irrelevante\"]\n",
    "rele = tweets['Treinamento'][tweets['Relevancia'] == \"Relevante\"]\n",
    "infos = tweets['Treinamento'][tweets['Relevancia'] == \"Infos\"]\n",
    "\n"
   ]
  },
  {
   "cell_type": "markdown",
   "metadata": {},
   "source": [
    "### Frequência absoluta - relevante, irrelevante, informação"
   ]
  },
  {
   "cell_type": "code",
   "execution_count": 7,
   "metadata": {},
   "outputs": [
    {
     "name": "stdout",
     "output_type": "stream",
     "text": [
      "Frequência absoluta (relevante, irrelevante, infos):  2742\n"
     ]
    }
   ],
   "source": [
    "conteudo = []\n",
    "for t in tweets[\"Treinamento\"]: \n",
    "    pal = t.split()\n",
    "    for p in pal:\n",
    "            conteudo.append(p)\n",
    "            \n",
    "texto=\" \".join(conteudo)\n",
    "series= pd.Series(texto.split())\n",
    "freq = series.value_counts()\n",
    "totalt=freq.sum()\n",
    "print(\"Frequência absoluta (relevante, irrelevante, infos): \", totalt)\n",
    "dict_tot =freq.to_dict()\n"
   ]
  },
  {
   "cell_type": "markdown",
   "metadata": {},
   "source": [
    "## Dicionário da categoria relevante, frequência absoluta e relativa\n"
   ]
  },
  {
   "cell_type": "code",
   "execution_count": 8,
   "metadata": {},
   "outputs": [
    {
     "name": "stdout",
     "output_type": "stream",
     "text": [
      "Frequência absoluta:  839\n",
      "Frequência relativa:  0.3059810357403355\n"
     ]
    }
   ],
   "source": [
    "conteudo = []\n",
    "for t in rele: \n",
    "    pal = t.split()\n",
    "    for p in pal:\n",
    "            conteudo.append(p)\n",
    "texto=\" \".join(conteudo)\n",
    "series= pd.Series(texto.split())\n",
    "freq = series.value_counts()\n",
    "totrele=freq.sum()\n",
    "print(\"Frequência absoluta: \",totrele)\n",
    "di_rele=freq.to_dict()\n",
    "frele=totrele/totalt\n",
    "print(\"Frequência relativa: \",frele)"
   ]
  },
  {
   "cell_type": "code",
   "execution_count": 9,
   "metadata": {},
   "outputs": [
    {
     "name": "stdout",
     "output_type": "stream",
     "text": [
      "Dicionário - categoria relevante:\n",
      "Termo mais utilizado do dicionário:  http: 9 vezes\n"
     ]
    }
   ],
   "source": [
    "dicionario_relevante={}\n",
    "for p in dict_tot.keys():\n",
    "    dicionario_relevante[p]=1\n",
    "for palavra in di_rele:\n",
    "    dicionario_relevante[palavra]+=di_rele[palavra]\n",
    "print(\"Dicionário - categoria relevante:\")\n",
    "\n",
    "m=0\n",
    "for k in dicionario_relevante:\n",
    "    while m<1:\n",
    "        print (\"Termo mais utilizado do dicionário: \",k + \": \" + str(dicionario_relevante[k]) + \" vezes\")\n",
    "        m+=1\n",
    "        \n",
    "#dicionario_relevante"
   ]
  },
  {
   "cell_type": "markdown",
   "metadata": {},
   "source": [
    "## Dicionário da categoria irrelevante, frequência absoluta e relativa"
   ]
  },
  {
   "cell_type": "code",
   "execution_count": 10,
   "metadata": {},
   "outputs": [
    {
     "name": "stdout",
     "output_type": "stream",
     "text": [
      "Frequência absoluta:  1714\n",
      "Frequência relativa:  0.62509117432531\n"
     ]
    }
   ],
   "source": [
    "conteudo = []\n",
    "for t in irrel: \n",
    "    pal = t.split()\n",
    "    for p in pal:\n",
    "            conteudo.append(p)\n",
    "texto=\" \".join(conteudo)\n",
    "series= pd.Series(texto.split())\n",
    "freq = series.value_counts()\n",
    "totirr=freq.sum()\n",
    "print(\"Frequência absoluta: \",totirr)\n",
    "di_irr=freq.to_dict()\n",
    "firr=totirr/totalt\n",
    "print(\"Frequência relativa: \",firr)"
   ]
  },
  {
   "cell_type": "code",
   "execution_count": 11,
   "metadata": {},
   "outputs": [
    {
     "name": "stdout",
     "output_type": "stream",
     "text": [
      "Dicionário - categoria irrelevante\n",
      "Termo mais utilizado dicionário:  http: 50 vezes\n"
     ]
    }
   ],
   "source": [
    "dicionario_irrelevante={}\n",
    "for p in dict_tot.keys():\n",
    "    dicionario_irrelevante[p]=1\n",
    "for palavra in di_irr:\n",
    "    dicionario_irrelevante[palavra]+=di_irr[palavra]\n",
    "print(\"Dicionário - categoria irrelevante\")\n",
    "\n",
    "m=0\n",
    "for k in dicionario_irrelevante:\n",
    "    while m<1:\n",
    "        print (\"Termo mais utilizado dicionário: \", k + \": \" + str(dicionario_irrelevante[k]) + \" vezes\")\n",
    "        m+=1\n",
    "\n",
    "#dicionario_irrelevante"
   ]
  },
  {
   "cell_type": "markdown",
   "metadata": {},
   "source": [
    "## Dicionário da categoria informação, frequência absoluta e relativa"
   ]
  },
  {
   "cell_type": "code",
   "execution_count": 12,
   "metadata": {},
   "outputs": [
    {
     "name": "stdout",
     "output_type": "stream",
     "text": [
      "Frequência absoluta:  0\n",
      "Frequência relativa:  0.0\n"
     ]
    },
    {
     "name": "stderr",
     "output_type": "stream",
     "text": [
      "/usr/lib/python3/dist-packages/ipykernel_launcher.py:7: DeprecationWarning: The default dtype for empty Series will be 'object' instead of 'float64' in a future version. Specify a dtype explicitly to silence this warning.\n",
      "  import sys\n"
     ]
    }
   ],
   "source": [
    "conteudo = []\n",
    "for t in infos: \n",
    "    pal = t.split()\n",
    "    for p in pal:\n",
    "            conteudo.append(p)\n",
    "texto=\" \".join(conteudo)\n",
    "series= pd.Series(texto.split())\n",
    "freq = series.value_counts()\n",
    "totinfo=freq.sum()\n",
    "print(\"Frequência absoluta: \",totinfo)\n",
    "di_info=freq.to_dict()\n",
    "finfo=totinfo/totalt\n",
    "print(\"Frequência relativa: \",finfo)"
   ]
  },
  {
   "cell_type": "code",
   "execution_count": 13,
   "metadata": {},
   "outputs": [
    {
     "name": "stdout",
     "output_type": "stream",
     "text": [
      "Dicionário - categoria informação\n",
      "Termo mais utilizado dicionário:  http: 1 vezes\n"
     ]
    }
   ],
   "source": [
    "dicionario_informacao={}\n",
    "for p in dict_tot.keys():\n",
    "    dicionario_informacao[p]=1\n",
    "for palavra in di_info:\n",
    "    dicionario_informacao[palavra]+=di_info[palavra]\n",
    "print(\"Dicionário - categoria informação\")\n",
    "\n",
    "m=0\n",
    "for k in dicionario_informacao:\n",
    "    while m<1:\n",
    "        print (\"Termo mais utilizado dicionário: \", k + \": \" + str(dicionario_informacao[k]) + \" vezes\")\n",
    "        m+=1\n",
    "\n",
    "#dicionario_informação"
   ]
  },
  {
   "cell_type": "markdown",
   "metadata": {},
   "source": [
    "___\n",
    "### Verificando a performance do Classificador\n",
    "\n",
    "Agora você deve testar o seu classificador com a base de Testes."
   ]
  },
  {
   "cell_type": "code",
   "execution_count": 14,
   "metadata": {},
   "outputs": [],
   "source": [
    "irrel ={}\n",
    "rel ={}\n",
    "info = {}\n",
    "\n",
    "todas_palavras=dict_tot.keys()\n",
    "for palavra in todas_palavras:\n",
    "    irrel[palavra]= dicionario_irrelevante[palavra]/(len(todas_palavras)+(totirr))#suavização de Laplace\n",
    "    rel[palavra]= dicionario_relevante[palavra]/(len(todas_palavras)+(totrele))\n",
    "    info[palavra]= dicionario_informacao[palavra]/(len(todas_palavras)+(totinfo))\n"
   ]
  },
  {
   "cell_type": "code",
   "execution_count": 15,
   "metadata": {},
   "outputs": [
    {
     "name": "stderr",
     "output_type": "stream",
     "text": [
      "[nltk_data] Downloading package stopwords to /home/borg/nltk_data...\n",
      "[nltk_data]   Package stopwords is already up-to-date!\n"
     ]
    },
    {
     "data": {
      "text/html": [
       "<div>\n",
       "<style scoped>\n",
       "    .dataframe tbody tr th:only-of-type {\n",
       "        vertical-align: middle;\n",
       "    }\n",
       "\n",
       "    .dataframe tbody tr th {\n",
       "        vertical-align: top;\n",
       "    }\n",
       "\n",
       "    .dataframe thead th {\n",
       "        text-align: right;\n",
       "    }\n",
       "</style>\n",
       "<table border=\"1\" class=\"dataframe\">\n",
       "  <thead>\n",
       "    <tr style=\"text-align: right;\">\n",
       "      <th></th>\n",
       "      <th>Teste</th>\n",
       "      <th>Relevancia</th>\n",
       "      <th>Relevancia_2</th>\n",
       "      <th>Chute</th>\n",
       "    </tr>\n",
       "  </thead>\n",
       "  <tbody>\n",
       "    <tr>\n",
       "      <th>0</th>\n",
       "      <td>frango corte única usam forma sistemática di...</td>\n",
       "      <td>Irrelevante</td>\n",
       "      <td>Muito Irrelevante</td>\n",
       "      <td>Relevante</td>\n",
       "    </tr>\n",
       "    <tr>\n",
       "      <th>1</th>\n",
       "      <td>http http http http quiser mimar</td>\n",
       "      <td>Irrelevante</td>\n",
       "      <td>Muito Irrelevante</td>\n",
       "      <td>Irrelevante</td>\n",
       "    </tr>\n",
       "    <tr>\n",
       "      <th>2</th>\n",
       "      <td>achei filme  tão fofo 🥰</td>\n",
       "      <td>Relevante</td>\n",
       "      <td>Relevante_filme</td>\n",
       "      <td>Relevante</td>\n",
       "    </tr>\n",
       "    <tr>\n",
       "      <th>3</th>\n",
       "      <td>vamos  melhor filme</td>\n",
       "      <td>Relevante</td>\n",
       "      <td>Relevante_filme</td>\n",
       "      <td>Relevante</td>\n",
       "    </tr>\n",
       "    <tr>\n",
       "      <th>4</th>\n",
       "      <td>vão fechar cinemas cidade  adeus oportunidade ...</td>\n",
       "      <td>Irrelevante</td>\n",
       "      <td>Muito Irrelevante</td>\n",
       "      <td>Relevante</td>\n",
       "    </tr>\n",
       "  </tbody>\n",
       "</table>\n",
       "</div>"
      ],
      "text/plain": [
       "                                               Teste   Relevancia  \\\n",
       "0    frango corte única usam forma sistemática di...  Irrelevante   \n",
       "1                   http http http http quiser mimar  Irrelevante   \n",
       "2                            achei filme  tão fofo 🥰    Relevante   \n",
       "3                                vamos  melhor filme    Relevante   \n",
       "4  vão fechar cinemas cidade  adeus oportunidade ...  Irrelevante   \n",
       "\n",
       "        Relevancia_2        Chute  \n",
       "0  Muito Irrelevante    Relevante  \n",
       "1  Muito Irrelevante  Irrelevante  \n",
       "2    Relevante_filme    Relevante  \n",
       "3    Relevante_filme    Relevante  \n",
       "4  Muito Irrelevante    Relevante  "
      ]
     },
     "execution_count": 15,
     "metadata": {},
     "output_type": "execute_result"
    }
   ],
   "source": [
    "dftw = limpeza(tweets_teste,\"Teste\")\n",
    "tweets=dftw[\"Teste\"]\n",
    "chute = []\n",
    "\n",
    "for frase in tweets:\n",
    "    prob_irrel=1\n",
    "    prob_rel=1\n",
    "    prob_info=1\n",
    "    y = frase.split(\" \")\n",
    "    for palavra in y: \n",
    "        if palavra in irrel:\n",
    "            prob_irrel *= irrel[palavra]\n",
    "        else:\n",
    "            prob_irrel *= 1/ (len(todas_palavras)+(totirr))\n",
    "        \n",
    "        if palavra in rel:\n",
    "            prob_rel *= rel[palavra]\n",
    "        else:\n",
    "            prob_rel *= 1/ (len(todas_palavras)+(totrele))\n",
    "            \n",
    "        if palavra in info:\n",
    "            prob_info *= info[palavra]\n",
    "        else:\n",
    "            prob_info *= 1/ (len(todas_palavras)+(totinfo))\n",
    "       \n",
    "    PIR= (firr*prob_irrel)\n",
    "    PR = (frele*prob_rel)\n",
    "    PIN = (finfo*prob_info)\n",
    "\n",
    "    if PR>=PIR and PR>=PIN:\n",
    "        chute.append(\"Relevante\")\n",
    "    elif PIN >= PR and PIN >= PIR:\n",
    "        chute.append(\"Informacao\")\n",
    "    else:\n",
    "        chute.append(\"Irrelevante\")\n",
    "\n",
    "\n",
    "dftw[\"Chute\"]=chute\n",
    "dftw.head()"
   ]
  },
  {
   "cell_type": "markdown",
   "metadata": {},
   "source": [
    "## Análise do desempenho"
   ]
  },
  {
   "cell_type": "markdown",
   "metadata": {},
   "source": [
    "### Tabela de distribuição conjunta - previsão do programa e classificação real"
   ]
  },
  {
   "cell_type": "code",
   "execution_count": 16,
   "metadata": {},
   "outputs": [
    {
     "data": {
      "text/html": [
       "<div>\n",
       "<style scoped>\n",
       "    .dataframe tbody tr th:only-of-type {\n",
       "        vertical-align: middle;\n",
       "    }\n",
       "\n",
       "    .dataframe tbody tr th {\n",
       "        vertical-align: top;\n",
       "    }\n",
       "\n",
       "    .dataframe thead th {\n",
       "        text-align: right;\n",
       "    }\n",
       "</style>\n",
       "<table border=\"1\" class=\"dataframe\">\n",
       "  <thead>\n",
       "    <tr style=\"text-align: right;\">\n",
       "      <th>Predito</th>\n",
       "      <th>Irrelevante</th>\n",
       "      <th>Relevante</th>\n",
       "      <th>All</th>\n",
       "    </tr>\n",
       "    <tr>\n",
       "      <th>Real</th>\n",
       "      <th></th>\n",
       "      <th></th>\n",
       "      <th></th>\n",
       "    </tr>\n",
       "  </thead>\n",
       "  <tbody>\n",
       "    <tr>\n",
       "      <th>Irrelevante</th>\n",
       "      <td>0.381643</td>\n",
       "      <td>0.352657</td>\n",
       "      <td>0.73430</td>\n",
       "    </tr>\n",
       "    <tr>\n",
       "      <th>Propaganda</th>\n",
       "      <td>0.024155</td>\n",
       "      <td>0.028986</td>\n",
       "      <td>0.05314</td>\n",
       "    </tr>\n",
       "    <tr>\n",
       "      <th>Relevante</th>\n",
       "      <td>0.043478</td>\n",
       "      <td>0.169082</td>\n",
       "      <td>0.21256</td>\n",
       "    </tr>\n",
       "    <tr>\n",
       "      <th>All</th>\n",
       "      <td>0.449275</td>\n",
       "      <td>0.550725</td>\n",
       "      <td>1.00000</td>\n",
       "    </tr>\n",
       "  </tbody>\n",
       "</table>\n",
       "</div>"
      ],
      "text/plain": [
       "Predito      Irrelevante  Relevante      All\n",
       "Real                                        \n",
       "Irrelevante     0.381643   0.352657  0.73430\n",
       "Propaganda      0.024155   0.028986  0.05314\n",
       "Relevante       0.043478   0.169082  0.21256\n",
       "All             0.449275   0.550725  1.00000"
      ]
     },
     "execution_count": 16,
     "metadata": {},
     "output_type": "execute_result"
    }
   ],
   "source": [
    "matriz = pd.crosstab(dftw[\"Relevancia\"], dftw[\"Chute\"], margins=True, normalize=True, rownames=[\"Real\"], colnames=[\"Predito\"])\n",
    "matriz"
   ]
  },
  {
   "cell_type": "markdown",
   "metadata": {},
   "source": [
    "### Previsão"
   ]
  },
  {
   "cell_type": "code",
   "execution_count": 17,
   "metadata": {},
   "outputs": [
    {
     "name": "stdout",
     "output_type": "stream",
     "text": [
      "O classificador acertou as previsões em 55.072463768115945% dos casos\n"
     ]
    }
   ],
   "source": [
    "numero_acerto = (dftw[\"Relevancia\"] == dftw[\"Chute\"]).value_counts()\n",
    "eficiencia=numero_acerto[True]/len(dftw)\n",
    "print(\"O classificador acertou as previsões em {}% dos casos\".format(eficiencia*100))"
   ]
  },
  {
   "cell_type": "markdown",
   "metadata": {},
   "source": [
    "### Heatmap"
   ]
  },
  {
   "cell_type": "code",
   "execution_count": 18,
   "metadata": {},
   "outputs": [
    {
     "data": {
      "text/plain": [
       "<matplotlib.axes._subplots.AxesSubplot at 0x7f74e9774198>"
      ]
     },
     "execution_count": 18,
     "metadata": {},
     "output_type": "execute_result"
    },
    {
     "data": {
      "image/png": "[encoded data removed]",
      "text/plain": [
       "<Figure size 432x288 with 2 Axes>"
      ]
     },
     "metadata": {},
     "output_type": "display_data"
    }
   ],
   "source": [
    "import pandas as pd\n",
    "import seaborn as sn\n",
    "\n",
    "sn.heatmap(matriz, annot=True)"
   ]
  },
  {
   "cell_type": "markdown",
   "metadata": {},
   "source": [
    "A fim de melhorar a visualização de dados, foi criado um heatmap com as informações adquiridas com os códigos anteriores. Desta forma, há a presença de todo um data set com ambas as variáveis instantaneamente, ou seja, há melhor visualização da correlação da matriz (tabela de distribuição conjunta).\n",
    "\n",
    "Como resposta do classficador, houve cerca de 54,59% de acertos. Entretanto, para melhorar o desempenho dele, foi feito um outro teste, porém, desta vez, acrescentando uma nova variável categórica, assim determinadas palavras se tornariam mais específicas para cada categoria definida."
   ]
  },
  {
   "cell_type": "markdown",
   "metadata": {},
   "source": [
    "## Categoria Naive-Bayes com 4 categorias"
   ]
  },
  {
   "cell_type": "code",
   "execution_count": 19,
   "metadata": {},
   "outputs": [
    {
     "name": "stderr",
     "output_type": "stream",
     "text": [
      "[nltk_data] Downloading package stopwords to /home/borg/nltk_data...\n",
      "[nltk_data]   Package stopwords is already up-to-date!\n"
     ]
    }
   ],
   "source": [
    "tweets = limpeza(tweets_treinamento, \"Treinamento\")\n",
    "\n",
    "tweets_mirrel=tweets['Treinamento'][tweets['Relevancia_2'] == \"Muito Irrelevante\"]\n",
    "tweets_relf=tweets['Treinamento'][tweets['Relevancia_2'] == \"Relevante_filme\"]\n",
    "tweets_irrel=tweets['Treinamento'][tweets['Relevancia_2'] == \"Irrelevante\"]\n",
    "tweets_relj=tweets['Treinamento'][tweets['Relevancia_2'] == \"Relevante_jogo\"]\n",
    "\n"
   ]
  },
  {
   "cell_type": "markdown",
   "metadata": {},
   "source": [
    "## Frequência absoluta"
   ]
  },
  {
   "cell_type": "code",
   "execution_count": 20,
   "metadata": {},
   "outputs": [
    {
     "name": "stdout",
     "output_type": "stream",
     "text": [
      "Frequência absoluta (relevante_filme, irrelevante, muito irrelevante, relevante_jogos):  2710\n"
     ]
    }
   ],
   "source": [
    "conteudo = []\n",
    "for t in tweets[\"Treinamento\"]: \n",
    "    pal = t.split()\n",
    "    for p in pal:\n",
    "            conteudo.append(p)\n",
    "            \n",
    "texto=\" \".join(conteudo)\n",
    "series= pd.Series(texto.split())\n",
    "freq = series.value_counts()\n",
    "totalt=freq.sum()\n",
    "print(\"Frequência absoluta (relevante_filme, irrelevante, muito irrelevante, relevante_jogos): \", totalt)\n",
    "dict_tot =freq.to_dict()\n"
   ]
  },
  {
   "cell_type": "markdown",
   "metadata": {},
   "source": [
    "## Frequências absoluta e relativa \"muito irrelevante\""
   ]
  },
  {
   "cell_type": "code",
   "execution_count": 21,
   "metadata": {},
   "outputs": [
    {
     "name": "stdout",
     "output_type": "stream",
     "text": [
      "Frequência absoluta (Muito Irrelevante):  1695\n",
      "Frequência relativa (Muito Irrelevante):  0.6254612546125461\n"
     ]
    }
   ],
   "source": [
    "conteudo = []\n",
    "for t in tweets_mirrel: \n",
    "    pal = t.split()\n",
    "    for p in pal:\n",
    "            conteudo.append(p)\n",
    "texto=\" \".join(conteudo)\n",
    "series= pd.Series(texto.split())\n",
    "freq = series.value_counts()\n",
    "totalmir=freq.sum()\n",
    "print(\"Frequência absoluta (Muito Irrelevante): \",totalmir)\n",
    "dict_mirrel=freq.to_dict()\n",
    "freq_rel_mirr=totalmir/totalt\n",
    "print(\"Frequência relativa (Muito Irrelevante): \",freq_rel_mirr)\n"
   ]
  },
  {
   "cell_type": "code",
   "execution_count": 22,
   "metadata": {},
   "outputs": [
    {
     "name": "stdout",
     "output_type": "stream",
     "text": [
      "Dicionário - categoria muito irrelevante\n",
      "Termo mais utilizado dicionário:  http: 50 vezes\n"
     ]
    }
   ],
   "source": [
    "dicionario_mirrel={}\n",
    "for p in dict_tot.keys():\n",
    "    dicionario_mirrel[p]=1\n",
    "for palavra in dict_mirrel:\n",
    "    dicionario_mirrel[palavra]+=dict_mirrel[palavra]\n",
    "\n",
    "print(\"Dicionário - categoria muito irrelevante\")\n",
    "m=0\n",
    "for k in dicionario_mirrel:\n",
    "    while m<1:\n",
    "        print (\"Termo mais utilizado dicionário: \", k + \": \" + str(dicionario_mirrel[k]) + \" vezes\")\n",
    "        m+=1"
   ]
  },
  {
   "cell_type": "markdown",
   "metadata": {},
   "source": [
    "## Palavras na categoria \"relevante_filme\""
   ]
  },
  {
   "cell_type": "code",
   "execution_count": 23,
   "metadata": {},
   "outputs": [
    {
     "name": "stdout",
     "output_type": "stream",
     "text": [
      "Frequência absoluta (Relevante_filme):  531\n",
      "Frequência relativa (Relevante_filme):  0.1959409594095941\n"
     ]
    }
   ],
   "source": [
    "conteudo = []\n",
    "for t in tweets_relf: \n",
    "    pal = t.split()\n",
    "    for p in pal:\n",
    "            conteudo.append(p)\n",
    "texto=\" \".join(conteudo)\n",
    "series= pd.Series(texto.split())\n",
    "freq = series.value_counts()\n",
    "totalrf=freq.sum()\n",
    "print(\"Frequência absoluta (Relevante_filme): \",totalrf)\n",
    "dict_relf=freq.to_dict()\n",
    "freq_rel_rf=totalrf/totalt\n",
    "print(\"Frequência relativa (Relevante_filme): \",freq_rel_rf)\n",
    "\n"
   ]
  },
  {
   "cell_type": "code",
   "execution_count": 24,
   "metadata": {},
   "outputs": [
    {
     "name": "stdout",
     "output_type": "stream",
     "text": [
      "Dicionário - categoria relevante_filme\n",
      "Termo mais utilizado dicionário:  http: 7 vezes\n"
     ]
    }
   ],
   "source": [
    "dicionario_relf={}\n",
    "for p in dict_tot.keys():\n",
    "    dicionario_relf[p]=1\n",
    "for palavra in dict_relf:\n",
    "    dicionario_relf[palavra]+=dict_relf[palavra]\n",
    "dicionario_relf\n",
    "\n",
    "print(\"Dicionário - categoria relevante_filme\")\n",
    "\n",
    "m=0\n",
    "for k in dicionario_relf:\n",
    "    while m<1:\n",
    "        print (\"Termo mais utilizado dicionário: \", k + \": \" + str(dicionario_relf[k]) + \" vezes\")\n",
    "        m+=1"
   ]
  },
  {
   "cell_type": "markdown",
   "metadata": {},
   "source": [
    "## Palavras na categoria \"irrelevante\""
   ]
  },
  {
   "cell_type": "code",
   "execution_count": 25,
   "metadata": {},
   "outputs": [
    {
     "name": "stdout",
     "output_type": "stream",
     "text": [
      "Frequência absoluta (Irrelevante):  189\n",
      "Frequência relativa (Irrelevante):  0.06974169741697417\n"
     ]
    }
   ],
   "source": [
    "conteudo = []\n",
    "for t in tweets_irrel: \n",
    "    pal = t.split()\n",
    "    for p in pal:\n",
    "            conteudo.append(p)\n",
    "texto=\" \".join(conteudo)\n",
    "series= pd.Series(texto.split())\n",
    "freq = series.value_counts()\n",
    "totalir=freq.sum()\n",
    "print(\"Frequência absoluta (Irrelevante): \",totalir)\n",
    "dict_irrel=freq.to_dict()\n",
    "freq_rel_irr=totalir/totalt\n",
    "print(\"Frequência relativa (Irrelevante): \",freq_rel_irr)\n"
   ]
  },
  {
   "cell_type": "code",
   "execution_count": 26,
   "metadata": {},
   "outputs": [
    {
     "name": "stdout",
     "output_type": "stream",
     "text": [
      "Dicionário - categoria irrelevante\n",
      "Termo mais utilizado dicionário:  http: 14 vezes\n"
     ]
    }
   ],
   "source": [
    "dicionario_irrel={}\n",
    "for p in dict_tot.keys():\n",
    "    dicionario_irrel[p]=1\n",
    "for palavra in dict_irrel:\n",
    "    dicionario_irrel[palavra]+=dict_irrel[palavra]\n",
    "\n",
    "print(\"Dicionário - categoria irrelevante\")\n",
    "m=0\n",
    "for k in dicionario_irrel:\n",
    "    while m<1:\n",
    "        print (\"Termo mais utilizado dicionário: \", k + \": \" + str(dicionario_irrel[k]) + \" vezes\")\n",
    "        m+=1"
   ]
  },
  {
   "cell_type": "markdown",
   "metadata": {},
   "source": [
    "## Palavras na categoria \"relevante_jogo\""
   ]
  },
  {
   "cell_type": "code",
   "execution_count": 27,
   "metadata": {},
   "outputs": [
    {
     "name": "stdout",
     "output_type": "stream",
     "text": [
      "Frequência absoluta (Relevante_jogo):  295\n",
      "Frequência relativa (Relevante_jogo):  0.1088560885608856\n"
     ]
    }
   ],
   "source": [
    "conteudo = []\n",
    "for t in tweets_relj: \n",
    "    pal = t.split()\n",
    "    for p in pal:\n",
    "            conteudo.append(p)\n",
    "texto=\" \".join(conteudo)\n",
    "series= pd.Series(texto.split())\n",
    "freq = series.value_counts()\n",
    "totalrj=freq.sum()\n",
    "print(\"Frequência absoluta (Relevante_jogo): \",totalrj)\n",
    "dict_relj=freq.to_dict()\n",
    "freq_rel_relj=totalrj/totalt\n",
    "print(\"Frequência relativa (Relevante_jogo): \",freq_rel_relj)\n",
    "\n"
   ]
  },
  {
   "cell_type": "code",
   "execution_count": 28,
   "metadata": {},
   "outputs": [
    {
     "name": "stdout",
     "output_type": "stream",
     "text": [
      "Dicionário - categoria relevante_jogo\n",
      "Termo mais utilizado dicionário:  http: 3 vezes\n"
     ]
    }
   ],
   "source": [
    "dicionario_relj={}\n",
    "for p in dict_tot.keys():\n",
    "    dicionario_relj[p]=1\n",
    "for palavra in dict_relj:\n",
    "    dicionario_relj[palavra]+=dict_relj[palavra]\n",
    "dicionario_relj\n",
    "\n",
    "print(\"Dicionário - categoria relevante_jogo\")\n",
    "\n",
    "m=0\n",
    "for k in dicionario_relj:\n",
    "    while m<1:\n",
    "        print (\"Termo mais utilizado dicionário: \", k + \": \" + str(dicionario_relj[k]) + \" vezes\")\n",
    "        m+=1"
   ]
  },
  {
   "cell_type": "markdown",
   "metadata": {},
   "source": [
    "## Implementação do classificador Naive Bayes"
   ]
  },
  {
   "cell_type": "code",
   "execution_count": 29,
   "metadata": {},
   "outputs": [],
   "source": [
    "mirrel ={}\n",
    "relf ={}\n",
    "irrel ={}\n",
    "relj = {}\n",
    "\n",
    "todas_palavras=dict_tot.keys()\n",
    "for palavra in todas_palavras:\n",
    "    mirrel[palavra]= dicionario_mirrel[palavra]/(len(todas_palavras)+(totalmir))\n",
    "    relf[palavra]= dicionario_relf[palavra]/(len(todas_palavras)+(totalrf))\n",
    "    irrel[palavra]= dicionario_irrel[palavra]/(len(todas_palavras)+(totalir))\n",
    "    relj[palavra]= dicionario_relj[palavra]/(len(todas_palavras)+(totalrj))\n",
    "\n"
   ]
  },
  {
   "cell_type": "code",
   "execution_count": 30,
   "metadata": {},
   "outputs": [
    {
     "name": "stderr",
     "output_type": "stream",
     "text": [
      "[nltk_data] Downloading package stopwords to /home/borg/nltk_data...\n",
      "[nltk_data]   Package stopwords is already up-to-date!\n"
     ]
    },
    {
     "data": {
      "text/html": [
       "<div>\n",
       "<style scoped>\n",
       "    .dataframe tbody tr th:only-of-type {\n",
       "        vertical-align: middle;\n",
       "    }\n",
       "\n",
       "    .dataframe tbody tr th {\n",
       "        vertical-align: top;\n",
       "    }\n",
       "\n",
       "    .dataframe thead th {\n",
       "        text-align: right;\n",
       "    }\n",
       "</style>\n",
       "<table border=\"1\" class=\"dataframe\">\n",
       "  <thead>\n",
       "    <tr style=\"text-align: right;\">\n",
       "      <th></th>\n",
       "      <th>Teste</th>\n",
       "      <th>Relevancia</th>\n",
       "      <th>Relevancia_2</th>\n",
       "      <th>Chute</th>\n",
       "    </tr>\n",
       "  </thead>\n",
       "  <tbody>\n",
       "    <tr>\n",
       "      <th>0</th>\n",
       "      <td>frango corte única usam forma sistemática dire...</td>\n",
       "      <td>Irrelevante</td>\n",
       "      <td>Muito Irrelevante</td>\n",
       "      <td>Irrelevante</td>\n",
       "    </tr>\n",
       "    <tr>\n",
       "      <th>1</th>\n",
       "      <td>http http http http quiser mimar</td>\n",
       "      <td>Irrelevante</td>\n",
       "      <td>Muito Irrelevante</td>\n",
       "      <td>Muito Irrelevante</td>\n",
       "    </tr>\n",
       "    <tr>\n",
       "      <th>2</th>\n",
       "      <td>achei filme tão fofo 🥰</td>\n",
       "      <td>Relevante</td>\n",
       "      <td>Relevante_filme</td>\n",
       "      <td>Relevante_filme</td>\n",
       "    </tr>\n",
       "    <tr>\n",
       "      <th>3</th>\n",
       "      <td>vamos melhor filme</td>\n",
       "      <td>Relevante</td>\n",
       "      <td>Relevante_filme</td>\n",
       "      <td>Relevante_filme</td>\n",
       "    </tr>\n",
       "    <tr>\n",
       "      <th>4</th>\n",
       "      <td>vão fechar cinemas cidade adeus oportunidade a...</td>\n",
       "      <td>Irrelevante</td>\n",
       "      <td>Muito Irrelevante</td>\n",
       "      <td>Relevante_filme</td>\n",
       "    </tr>\n",
       "  </tbody>\n",
       "</table>\n",
       "</div>"
      ],
      "text/plain": [
       "                                               Teste   Relevancia  \\\n",
       "0  frango corte única usam forma sistemática dire...  Irrelevante   \n",
       "1                   http http http http quiser mimar  Irrelevante   \n",
       "2                             achei filme tão fofo 🥰    Relevante   \n",
       "3                                 vamos melhor filme    Relevante   \n",
       "4  vão fechar cinemas cidade adeus oportunidade a...  Irrelevante   \n",
       "\n",
       "        Relevancia_2              Chute  \n",
       "0  Muito Irrelevante        Irrelevante  \n",
       "1  Muito Irrelevante  Muito Irrelevante  \n",
       "2    Relevante_filme    Relevante_filme  \n",
       "3    Relevante_filme    Relevante_filme  \n",
       "4  Muito Irrelevante    Relevante_filme  "
      ]
     },
     "execution_count": 30,
     "metadata": {},
     "output_type": "execute_result"
    }
   ],
   "source": [
    "dftw = limpeza(tweets_teste,\"Teste\")\n",
    "tweets=dftw[\"Teste\"]\n",
    "chute = []\n",
    "\n",
    "for frase in tweets:\n",
    "    prob_mirrel=1\n",
    "    prob_relf=1\n",
    "    prob_irrel=1\n",
    "    prob_relj=1\n",
    "    y = frase.split(\" \")\n",
    "    for palavra in y: \n",
    "        if palavra in mirrel:\n",
    "            prob_mirrel *= mirrel[palavra]\n",
    "        else:\n",
    "            prob_mirrel *= 1/ (len(todas_palavras)+(totalmir))\n",
    "        \n",
    "        if palavra in relf:\n",
    "            prob_relf *= relf[palavra]\n",
    "        else:\n",
    "            prob_relf *= 1/ (len(todas_palavras)+(totalrf))\n",
    "            \n",
    "        if palavra in irrel:\n",
    "            prob_irrel *= irrel[palavra]\n",
    "        else:\n",
    "            prob_irrel *= 1/ (len(todas_palavras)+(totalir))\n",
    "            \n",
    "        if palavra in relj:\n",
    "            prob_relj*= relj[palavra]\n",
    "        else:\n",
    "            prob_relj *= 1/(len(todas_palavras)+(totalrj))\n",
    "         \n",
    "    PMI= (freq_rel_mirr*prob_mirrel)\n",
    "    PRF =(freq_rel_rf*prob_relf)\n",
    "    PI = (freq_rel_irr*prob_irrel)\n",
    "    PRJ=( freq_rel_relj*prob_relj)\n",
    "\n",
    "    if PRJ >= PI and PRJ>=PRF and PRJ>=PMI:\n",
    "        chute.append(\"Relevante_jogo\")\n",
    "\n",
    "    elif PI>=PMI and PI>=PRF:\n",
    "        chute.append(\"Irrelevante\")\n",
    "\n",
    "    elif PRF>=PMI:\n",
    "        chute.append(\"Relevante_filme\")\n",
    "    else:\n",
    "        chute.append(\"Muito Irrelevante\")\n",
    "\n",
    "\n",
    "dftw[\"Chute\"]=chute\n",
    "dftw.head()"
   ]
  },
  {
   "cell_type": "code",
   "execution_count": 31,
   "metadata": {},
   "outputs": [
    {
     "data": {
      "text/html": [
       "<div>\n",
       "<style scoped>\n",
       "    .dataframe tbody tr th:only-of-type {\n",
       "        vertical-align: middle;\n",
       "    }\n",
       "\n",
       "    .dataframe tbody tr th {\n",
       "        vertical-align: top;\n",
       "    }\n",
       "\n",
       "    .dataframe thead th {\n",
       "        text-align: right;\n",
       "    }\n",
       "</style>\n",
       "<table border=\"1\" class=\"dataframe\">\n",
       "  <thead>\n",
       "    <tr style=\"text-align: right;\">\n",
       "      <th></th>\n",
       "      <th>Teste</th>\n",
       "      <th>Relevancia</th>\n",
       "      <th>Relevancia_2</th>\n",
       "      <th>Chute</th>\n",
       "    </tr>\n",
       "  </thead>\n",
       "  <tbody>\n",
       "    <tr>\n",
       "      <th>0</th>\n",
       "      <td>frango corte única usam forma sistemática dire...</td>\n",
       "      <td>Irrelevante</td>\n",
       "      <td>Muito Irrelevante</td>\n",
       "      <td>Irrelevante</td>\n",
       "    </tr>\n",
       "    <tr>\n",
       "      <th>1</th>\n",
       "      <td>http http http http quiser mimar</td>\n",
       "      <td>Irrelevante</td>\n",
       "      <td>Muito Irrelevante</td>\n",
       "      <td>Muito Irrelevante</td>\n",
       "    </tr>\n",
       "    <tr>\n",
       "      <th>2</th>\n",
       "      <td>achei filme tão fofo 🥰</td>\n",
       "      <td>Relevante</td>\n",
       "      <td>Relevante_filme</td>\n",
       "      <td>Relevante_filme</td>\n",
       "    </tr>\n",
       "    <tr>\n",
       "      <th>3</th>\n",
       "      <td>vamos melhor filme</td>\n",
       "      <td>Relevante</td>\n",
       "      <td>Relevante_filme</td>\n",
       "      <td>Relevante_filme</td>\n",
       "    </tr>\n",
       "    <tr>\n",
       "      <th>4</th>\n",
       "      <td>vão fechar cinemas cidade adeus oportunidade a...</td>\n",
       "      <td>Irrelevante</td>\n",
       "      <td>Muito Irrelevante</td>\n",
       "      <td>Relevante_filme</td>\n",
       "    </tr>\n",
       "  </tbody>\n",
       "</table>\n",
       "</div>"
      ],
      "text/plain": [
       "                                               Teste   Relevancia  \\\n",
       "0  frango corte única usam forma sistemática dire...  Irrelevante   \n",
       "1                   http http http http quiser mimar  Irrelevante   \n",
       "2                             achei filme tão fofo 🥰    Relevante   \n",
       "3                                 vamos melhor filme    Relevante   \n",
       "4  vão fechar cinemas cidade adeus oportunidade a...  Irrelevante   \n",
       "\n",
       "        Relevancia_2              Chute  \n",
       "0  Muito Irrelevante        Irrelevante  \n",
       "1  Muito Irrelevante  Muito Irrelevante  \n",
       "2    Relevante_filme    Relevante_filme  \n",
       "3    Relevante_filme    Relevante_filme  \n",
       "4  Muito Irrelevante    Relevante_filme  "
      ]
     },
     "execution_count": 31,
     "metadata": {},
     "output_type": "execute_result"
    }
   ],
   "source": [
    "dftw.head()"
   ]
  },
  {
   "cell_type": "markdown",
   "metadata": {},
   "source": [
    "## Resultados do teste e verificação de performance"
   ]
  },
  {
   "cell_type": "code",
   "execution_count": 32,
   "metadata": {},
   "outputs": [
    {
     "name": "stdout",
     "output_type": "stream",
     "text": [
      "O classificador acertou as previsões em 52.65700483091788% dos casos\n"
     ]
    }
   ],
   "source": [
    "\n",
    "numero_acerto = (dftw[\"Relevancia_2\"] == dftw[\"Chute\"]).value_counts()\n",
    "eficiencia=numero_acerto[True]/len(dftw)\n",
    "print(\"O classificador acertou as previsões em {}% dos casos\".format(eficiencia*100))\n"
   ]
  },
  {
   "cell_type": "markdown",
   "metadata": {},
   "source": [
    "___\n",
    "### Concluindo"
   ]
  },
  {
   "cell_type": "markdown",
   "metadata": {},
   "source": []
  },
  {
   "cell_type": "markdown",
   "metadata": {},
   "source": [
    "A análise demonstrou que o classificador Naive Bayes é uma ótima ferramenta para prever possibilidades baseadas em dados previamente processados. Por conta de sua eficácia, essa ferramenta de Machine Learning é usada em cenários distintos. Dentre eles:\n",
    "- Filtro Spam em emails\n",
    "- Classificação de gostos para recomendações personalizadas (por exemplo filmes ou músicas)\n",
    "- Reconhecimento facial \n",
    "- Diagnósticos médicos"
   ]
  },
  {
   "cell_type": "markdown",
   "metadata": {},
   "source": [
    "___\n",
    "## Aperfeiçoamento:\n",
    "\n",
    "Os trabalhos vão evoluir em conceito dependendo da quantidade de itens avançados:\n",
    "\n",
    "* Limpar: \\n, :, \", ', (, ), etc SEM remover emojis\n",
    "* Corrigir separação de espaços entre palavras e emojis ou entre emojis e emojis\n",
    "* Propor outras limpezas e transformações que não afetem a qualidade da informação ou classificação\n",
    "* Criar categorias intermediárias de relevância baseadas na probabilidade: ex.: muito relevante, relevante, neutro, irrelevante, muito irrelevante (3 categorias: C, mais categorias conta para B)\n",
    "* Explicar por que não posso usar o próprio classificador para gerar mais amostras de treinamento\n",
    "* Propor diferentes cenários para Naïve Bayes fora do contexto do projeto\n",
    "* Sugerir e explicar melhorias reais com indicações concretas de como implementar (indicar como fazer e indicar material de pesquisa)\n",
    "* Montar um dashboard que periodicamente realiza análise de sentimento e visualiza estes dados"
   ]
  },
  {
   "cell_type": "markdown",
   "metadata": {},
   "source": [
    "Para o aperfeiçoamento do machine learning, pode-se tomar como possibilidade o aumento da base de treinamento e classificá-la com critérios mais rígidos, promovendo resultados com maior proximidade com a realidade."
   ]
  },
  {
   "cell_type": "markdown",
   "metadata": {},
   "source": [
    "O índice de acerto geral resultante pode ser considerado alto.\n",
    "Entretanto, nota-se que nas categorias de maior relevância, o classificador obteve um pequeno acerto percentual.\n",
    "Uma metodologia interessante para melhorar tal indice foi proposta no artigo \"Indonesian News Classification Using Naïve Bayes and Two-Phase Feature Selection Model\"\n",
    ", da Faculty of Information Technology, Institut Teknologi Sepuluh Nopember.\n",
    "O estudo propõe implementar o classificador Naive Bayes em duas fases. Na primeira, são classificados dois grupos: relevante e irrelevante. Depois, o grupo considerado relevante é dividido em mais categorias, os níveis de relevância. Segundo o artigo publicado, tal metodologia melhora a precisão do classificador, principalmente nas subcategorias."
   ]
  },
  {
   "cell_type": "markdown",
   "metadata": {},
   "source": [
    "Um grande problema na implementação do classificador é a presença de sarcasmo em alguns comentários, podendo ocasionar falsos positivos \n",
    "O artigo 'Sentiment Analysis Using Naïve Bayes Classifier' propõe uma solução para essa situação. Tal solução consiste em uma abordagem multifacetada, composta pelos seguintes procedimentos: \n",
    "- Marcação de tags #sarcastico ou #sarcasmo nos tweets;\n",
    "- Análise de contrastes na densidade lexical (proporção entre adjetivos, substantivos, etc.);\n",
    "- Identificação de hipérboles (exclamações, repetição de palavras intensificadoras (como muito, demais, etc) e palavras extendidas (como muuuuuuuito));\n",
    "- Consideração de emojis \n"
   ]
  },
  {
   "cell_type": "markdown",
   "metadata": {},
   "source": [
    "Segundo o artigo, outro classificador Naive Bayes poderia ser usado para identificar o sarcasmo. O mesmo procedimento do projeto deveria ser seguido, em que o classificador \"aprenderia\" a identificar mensagens sarcásticas por meio de uma amostra classificada"
   ]
  },
  {
   "cell_type": "markdown",
   "metadata": {},
   "source": [
    "___\n",
    "## Referências"
   ]
  },
  {
   "cell_type": "markdown",
   "metadata": {},
   "source": [
    "- Material disponível nos slides e jupyter no Blackboard\n",
    "\n",
    "- https://stackoverflow.com/questions/12286607/making-heatmap-from-pandas-dataframe\n",
    "\n",
    "- https://twitter.com/home?lang=pt-br\n",
    "\n",
    "- [Naive Bayes and Text Classification](https://arxiv.org/pdf/1410.5329.pdf)  **Mais completo**\n",
    "\n",
    "- [A practical explanation of a Naive Bayes Classifier](https://monkeylearn.com/blog/practical-explanation-naive-bayes-classifier/) **Mais simples**\n",
    "\n",
    "https://www.google.com/url?sa=t&source=web&rct=j&url=https://www.ijitee.org/wp-content/uploads/papers/v8i8/H6330068819.pdf&ved=2ahUKEwiv1smT8NLkAhXkHrkGHSaGD_4QFjACegQIDhAH&usg=AOvVaw0famfei5kKkpmWVm8AqKIr\n",
    "Indonesian News Classification Using Naïve Bayes and Two-Phase Feature Selection Model \n",
    " \n",
    " \n",
    "M. Ali Fauzi*1, Agus Zainal Arifin2, Sonny Christiano Gosaria3, Isnan Suryo Prabowo4 1Faculty of Computer Science, Universitas Brawijaya, Malang, Indonesia 2,3,4Faculty of Information Technology, Institut Teknologi Sepuluh Nopember, Surabaya, Indonesia *Corresponding author, e-mail: moch.ali.fauzi@ub.ac.id "
   ]
  }
 ],
 "metadata": {
  "kernelspec": {
   "display_name": "Python 3",
   "language": "python",
   "name": "python3"
  },
  "language_info": {
   "codemirror_mode": {
    "name": "ipython",
    "version": 3
   },
   "file_extension": ".py",
   "mimetype": "text/x-python",
   "name": "python",
   "nbconvert_exporter": "python",
   "pygments_lexer": "ipython3",
   "version": "3.6.9"
  }
 },
 "nbformat": 4,
 "nbformat_minor": 4
}
